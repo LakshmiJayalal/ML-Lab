{
  "nbformat": 4,
  "nbformat_minor": 0,
  "metadata": {
    "colab": {
      "provenance": [],
      "collapsed_sections": [
        "45xNaNCQ-VHW",
        "acYxMLZuFZUY",
        "Uw4k32XSE1wG",
        "5hqhzY50F3FV",
        "TS45Co4CGEqE",
        "JB5Nc5STF7B4",
        "iuOt3LkIM530",
        "jlRZf-XFQrFu"
      ]
    },
    "kernelspec": {
      "name": "python3",
      "display_name": "Python 3"
    },
    "language_info": {
      "name": "python"
    },
    "accelerator": "GPU",
    "gpuClass": "standard"
  },
  "cells": [
    {
      "cell_type": "markdown",
      "source": [
        "# Google Colab for Intro to Machine Learning "
      ],
      "metadata": {
        "id": "UM9XsCHM8ZsF"
      }
    },
    {
      "cell_type": "markdown",
      "source": [
        "\n",
        "\n",
        "*  Colab is a free notebook environment that runs entirely in the cloud. It lets you and your team members edit documents.\n",
        "*  Essentially, it is a free Jupyter notebook that runs code on google servers instead of your local PC. \n",
        "*  It is a web-based IDE (interactive development environment) that combines live code, visualization, equations, etc.\n",
        "*  You can also access files stored in your drive using the mount option. \n",
        "*  Most importantly, it **supports** many popular **machine learning libraries** which can be easily loaded into your colab notebook.\n",
        "\n",
        "\n"
      ],
      "metadata": {
        "id": "LMa6tjfFClyt"
      }
    },
    {
      "cell_type": "markdown",
      "source": [
        "**Different Api's that are used for ML in python**\n",
        "\n",
        "*   Scipy\n",
        "*   Scikit-learn\n",
        "*   Theano\n",
        "*   TensorFlow\n",
        "*   Keras\n",
        "*   **PyTorch**\n",
        "*   Pandas\n",
        "\n"
      ],
      "metadata": {
        "id": "DWF2IxNxMpJV"
      }
    },
    {
      "cell_type": "markdown",
      "source": [
        "Importing Some Python Libraries that are Required"
      ],
      "metadata": {
        "id": "WuhY3zWwcKy3"
      }
    },
    {
      "cell_type": "code",
      "source": [
        "import torch\n",
        "import matplotlib.pyplot as plt\n",
        "import numpy as np\n",
        "import pandas as pd\n",
        "from torch.utils.data import Dataset\n",
        "from torchvision import datasets\n",
        "from torchvision.transforms import ToTensor\n",
        "from torch.utils.data import DataLoader\n",
        "from sklearn.model_selection import train_test_split"
      ],
      "metadata": {
        "id": "CrifIFBr-Jzg"
      },
      "execution_count": null,
      "outputs": []
    },
    {
      "cell_type": "markdown",
      "source": [
        "Downloading the Dataset from pytorch "
      ],
      "metadata": {
        "id": "zh7FKJeoKEZy"
      }
    },
    {
      "cell_type": "code",
      "source": [
        "training_data = datasets.MNIST(root=\"data\",train=True, download=True, transform=ToTensor())\n",
        "\n",
        "test_data = datasets.MNIST(root=\"data\", train=False, download=True, transform=ToTensor())"
      ],
      "metadata": {
        "id": "3aXWiwAaJxlJ"
      },
      "execution_count": null,
      "outputs": []
    },
    {
      "cell_type": "markdown",
      "source": [
        "Finding the length of Training and Testing set"
      ],
      "metadata": {
        "id": "N4noSgrdAacu"
      }
    },
    {
      "cell_type": "code",
      "source": [
        "print(training_data.targets.shape)\n",
        "print(test_data.targets.shape)"
      ],
      "metadata": {
        "id": "RoK40yzks154"
      },
      "execution_count": null,
      "outputs": []
    },
    {
      "cell_type": "markdown",
      "source": [
        "Plotting 10 random examples of each digit"
      ],
      "metadata": {
        "id": "zHWDIuN1Afip"
      }
    },
    {
      "cell_type": "code",
      "source": [
        "num_row = 10\n",
        "num_col = 10\n",
        "fig, axes = plt.subplots(num_row, num_col, figsize=(1.5*num_col,2*num_row))\n",
        "\n",
        "for i in range(10):\n",
        "  idx = (training_data.targets==i)\n",
        "  temp_data = training_data.data[idx]\n",
        "  temp_target = training_data.targets[idx]\n",
        "\n",
        "  for j in range(10):\n",
        "    idx1 = np.random.randint(0,len(temp_target))\n",
        "    ax = axes[i, j]\n",
        "    ax.imshow(temp_data[idx1], cmap='gray')\n",
        "    ax.set_title('Label: {}'.format(temp_target[idx1]))\n",
        "plt.tight_layout()\n",
        "plt.show"
      ],
      "metadata": {
        "id": "Cz5CdLRwyKU-"
      },
      "execution_count": null,
      "outputs": []
    },
    {
      "cell_type": "markdown",
      "source": [
        "## Introduction\n",
        "#### **MOUNT GOOGLE DRIVE**\n",
        "\n",
        "With just two lines of code we can mount your google drive to load/save files.\n",
        "\n",
        "\n",
        "PS: A prompt will be generated to verify the access. \n"
      ],
      "metadata": {
        "id": "45xNaNCQ-VHW"
      }
    },
    {
      "cell_type": "code",
      "source": [
        "from google.colab import drive\n",
        "drive.mount('/content/drive')"
      ],
      "metadata": {
        "id": "VgxYQqo9ABGe"
      },
      "execution_count": null,
      "outputs": []
    },
    {
      "cell_type": "markdown",
      "source": [
        "**BASH**\n",
        "\n",
        "*   It is a Command Line Interpreter(CLI) which is a form of using the Operating System(OS). \n",
        "*   It allows the user to communicate with the kernel (a program at the core of a computer's OS).\n",
        "*   **BASH** within Google Colab can be accessed with **!** or **%**.\n",
        "\n"
      ],
      "metadata": {
        "id": "3XnTVM3UDL7R"
      }
    },
    {
      "cell_type": "markdown",
      "source": [
        "Some Useful BASH commands:"
      ],
      "metadata": {
        "id": "nBmRBe67EUw2"
      }
    },
    {
      "cell_type": "markdown",
      "source": [
        "## **`echo`**\n",
        "\n",
        "**`echo` is a command that outputs the strings that are passed to it as arguments. `echo` can be thought of as a print function.**"
      ],
      "metadata": {
        "id": "acYxMLZuFZUY"
      }
    },
    {
      "cell_type": "code",
      "source": [
        "!echo hello world"
      ],
      "metadata": {
        "id": "pHioriCHFaKB"
      },
      "execution_count": null,
      "outputs": []
    },
    {
      "cell_type": "markdown",
      "source": [
        "## **`man`**\n",
        "\n",
        "**`man` or \"manual\", is an interface to the system reference manuals. Manual is used to describe commands.**"
      ],
      "metadata": {
        "id": "Uw4k32XSE1wG"
      }
    },
    {
      "cell_type": "code",
      "source": [
        "!man echo"
      ],
      "metadata": {
        "id": "FGxXFLohFjYF"
      },
      "execution_count": null,
      "outputs": []
    },
    {
      "cell_type": "markdown",
      "source": [
        "## **`pwd`**\n",
        "\n",
        "**`pwd` or \"print work directory\", returns the current working directory. The default working directory for Google Colab is the `/content` folder.**"
      ],
      "metadata": {
        "id": "5hqhzY50F3FV"
      }
    },
    {
      "cell_type": "code",
      "source": [
        "!pwd"
      ],
      "metadata": {
        "id": "TwyvgzFzF5JM"
      },
      "execution_count": null,
      "outputs": []
    },
    {
      "cell_type": "markdown",
      "source": [
        "## **`cd`**\n",
        "\n",
        "**`cd` or \"change directory\", is used to change the working directory. The path name is input after `cd`.**"
      ],
      "metadata": {
        "id": "JB5Nc5STF7B4"
      }
    },
    {
      "cell_type": "code",
      "source": [
        "%cd /content/drive/MyDrive/ML_Demo_4123/Datasets"
      ],
      "metadata": {
        "id": "ABFrd8leF7bl"
      },
      "execution_count": null,
      "outputs": []
    },
    {
      "cell_type": "markdown",
      "source": [
        "## **`ls`**\n",
        "\n",
        "**`ls` or \"list\", prints out the content within the current working directory.**"
      ],
      "metadata": {
        "id": "2O4VHVfYG1I4"
      }
    },
    {
      "cell_type": "code",
      "source": [
        "!ls"
      ],
      "metadata": {
        "id": "zcdoqMtQG2W9"
      },
      "execution_count": null,
      "outputs": []
    },
    {
      "cell_type": "code",
      "source": [
        "file_out=pd.read_csv('/content/drive/MyDrive/ML_Demo_5722/Cric_data.csv')\n",
        "print(file_out.head())"
      ],
      "metadata": {
        "id": "WlnakI_LzSL1"
      },
      "execution_count": null,
      "outputs": []
    },
    {
      "cell_type": "code",
      "source": [
        "class Featuredataset(Dataset):\n",
        "    def __init__(self,filename):\n",
        "    #read csv file and load row data into variable\n",
        "      file_out=pd.read_csv(filename)\n",
        "      x=file_out.iloc[0:,  1:6].values\n",
        "      y=file_out.iloc[0:,  7].values\n",
        "      self.X_data=torch.tensor(x, dtype=torch.float32)\n",
        "      self.Y_data=torch.tensor(y)\n",
        "      print(self.X_data)\n",
        "\n",
        "  \n",
        "\n",
        "    def __len__(self):\n",
        "      return len(self.Y_data)\n",
        "    \n",
        "    def __getitem__(self,idx):\n",
        "      return self.X_train[idx],self.Y_train[idx]\n",
        "\n",
        "    def plotterdata(self):\n",
        "      #_______________________________Bowiling avg VS Batting Average___________________________________\n",
        "      plt.rcParams.update({'figure.figsize':(10,8), 'figure.dpi':100})\n",
        "      plt.scatter(self.X_data[self.Y_data==0,2],self.X_data[self.Y_data==0,4],color = 'blue',marker= '*', label='All rounder')\n",
        "      plt.scatter(self.X_data[self.Y_data==-1,2],self.X_data[self.Y_data==-1,4],color = 'hotpink',marker= 'o', label='Batsman')\n",
        "      plt.scatter(self.X_data[self.Y_data==1,2],self.X_data[self.Y_data==1,4],color = 'red',marker= 'x', label='Bowler')\n",
        "      plt.title('Data visualization of Cricket data')\n",
        "      plt.xlabel('Batting Average')\n",
        "      plt.ylabel('Bowling Average')\n",
        "      plt.legend(loc='best')\n",
        "      plt.show()\n",
        "      #_______________________________Wickets taken VS Runs scored___________________________________\n",
        "      plt.rcParams.update({'figure.figsize':(10,8), 'figure.dpi':100})\n",
        "      plt.scatter(self.X_data[self.Y_data==0,1],self.X_data[self.Y_data==0,3],color = 'blue',marker= '*', label='All rounder')\n",
        "      plt.scatter(self.X_data[self.Y_data==-1,1],self.X_data[self.Y_data==-1,3],color = 'hotpink',marker= 'o', label='Batsman')\n",
        "      plt.scatter(self.X_data[self.Y_data==1,1],self.X_data[self.Y_data==1,3],color = 'red',marker= 'x', label='Bowler')\n",
        "      plt.title('Data visualization of Cricket data')\n",
        "      plt.xlabel('Runs Scored')\n",
        "      plt.ylabel('Wickets Taken')\n",
        "      plt.legend(loc='best')\n",
        "      plt.show()\n",
        "    \n",
        "    def train_test_split(self):\n",
        "      #Split in 80:20 ratio\n",
        "      self.X_train, self.X_test, self.y_train,self.y_test = train_test_split(self.X_data, self.Y_data,test_size=0.2)\n",
        "      print(len(self.y_train))\n",
        "      print(len(self.y_test))\n",
        "\n",
        "\n",
        "    def trainset(self):\n",
        "      return self.X_train,self.y_train\n",
        "    \n",
        "    def testset(self):\n",
        "      return self.X_test,self.y_test\n"
      ],
      "metadata": {
        "id": "21Q-BgyK83p8"
      },
      "execution_count": null,
      "outputs": []
    },
    {
      "cell_type": "code",
      "source": [
        "featureset= Featuredataset('/content/drive/MyDrive/ML_Demo_5722/Cric_data.csv')\n",
        "featureset.train_test_split()\n",
        "trainloader= DataLoader(featureset.trainset,batch_size=10,shuffle=False)\n"
      ],
      "metadata": {
        "id": "TAeOK_ZGAoR8"
      },
      "execution_count": null,
      "outputs": []
    },
    {
      "cell_type": "code",
      "source": [
        "l=featureset.__len__()\n",
        "print(l)"
      ],
      "metadata": {
        "id": "kcNpoBGjIf0O"
      },
      "execution_count": null,
      "outputs": []
    },
    {
      "cell_type": "code",
      "source": [
        "featureset.plotterdata()"
      ],
      "metadata": {
        "id": "Yk7XJjprQxHl"
      },
      "execution_count": null,
      "outputs": []
    },
    {
      "cell_type": "markdown",
      "metadata": {
        "id": "iuOt3LkIM530"
      },
      "source": [
        "# Linear Regression\n",
        "Using Linear regression, a relationship between the domain set $\\mathcal{X}$ is a subset of $\\mathrm{R}^d$, for some $d$, and the label set $\\mathcal{Y}$ is the set of real numbers can be obtained that best approximates the relation. i.e. find a $h:\\mathrm{R}^d→\\mathrm{R}$.  We will start with a simple regression model, i.e. d=1 or fitting a straight line to a data. \n",
        "\n",
        "$$y=ax+b$$\n",
        "\n",
        "Here $y$ is observed values, $a$ is the slope, $b$ is the intercept and $x$ is the measured values. \n"
      ]
    },
    {
      "cell_type": "markdown",
      "source": [
        "We will start by loading all the standard libraries. "
      ],
      "metadata": {
        "id": "bNE_hJx9PqvY"
      }
    },
    {
      "cell_type": "code",
      "source": [
        "import matplotlib.pyplot as plt #For plotting\n",
        "import numpy as np # For array manipulation"
      ],
      "metadata": {
        "id": "R_OwGymEPp29"
      },
      "execution_count": null,
      "outputs": []
    },
    {
      "cell_type": "markdown",
      "source": [
        "## Toy Example\n",
        "Consider a the data pair $(x,y)$ generated with $a=5$ and $b=-2$. "
      ],
      "metadata": {
        "id": "jlRZf-XFQrFu"
      }
    },
    {
      "cell_type": "code",
      "source": [
        "x = 10 * np.random.rand(50);#Actual Data\n",
        "y = 5 * x - 20 +2*np.random.randn(50);#Observed Data\n",
        "'''\n",
        "Plot data\n",
        "'''\n",
        "plt.scatter(x, y);\n",
        "plt.xlabel('x');\n",
        "plt.ylabel('y');"
      ],
      "metadata": {
        "id": "sH_NeIaXQ6h0"
      },
      "execution_count": null,
      "outputs": []
    },
    {
      "cell_type": "markdown",
      "source": [
        "If we pick a point, $x$ not in the data set, we can use the a line with slope $a$ and intercept $b$ to predict the value of $y$. \n",
        "\n",
        "In machine learning, learning we often call this a *model* since it is what\n",
        "we use to make our predictions.\n",
        "\n",
        "We call this model a *linear* model since we fit the data with a line. When a learning model fits data by a line, we say it is linear. \n",
        "\n",
        "*Regression* is relationship between correlated variables.\n",
        "\n",
        "When you have just one input value (feature), linear regression is the problem if fitting a line to the data and using this line to make new predictions. When its more than one input variable, linear regression is th problem of fitting a hyperplane to the data and using this hyperplane to make new predictions. "
      ],
      "metadata": {
        "id": "DXzGtxMzR1W-"
      }
    },
    {
      "cell_type": "markdown",
      "source": [
        "Here, given the data pair $(x,y)$, we have to estimate the values of coefficient ($a$) and intercept $(b)$. We will be using the Scikit-Learn's Linear regression estimator to fit the data. \n",
        "\n",
        "Here the loss function we are trying to minimize is $L(\\hat{a},\\hat{b})=\\|y-(\\hat{a}x+̂{b})\\|^2$."
      ],
      "metadata": {
        "id": "Su4DFb3F_qQ9"
      }
    },
    {
      "cell_type": "code",
      "source": [
        "from sklearn.linear_model import LinearRegression \n",
        "model = LinearRegression(fit_intercept=True) # Specifying the model.\n",
        "model.fit(x[:, np.newaxis], y); #fit the model\n",
        "'''\n",
        "Plot the data\n",
        "'''\n",
        "xfit = np.linspace(0, 10, 1000);\n",
        "yfit = model.predict(xfit[:, np.newaxis]);\n",
        "plt.scatter(x, y,label='Observed Value');\n",
        "plt.plot(xfit, yfit,'g',label='Estimate');\n",
        "plt.xlabel('x');\n",
        "plt.ylabel('y');\n",
        "plt.legend();"
      ],
      "metadata": {
        "id": "YT_lxwx5ROzd"
      },
      "execution_count": null,
      "outputs": []
    },
    {
      "cell_type": "markdown",
      "source": [
        "Here, the LinearRegression module of sklearn uses Ordinary Least Squares. Ordinary least squares, or linear least squares, estimates the parameters in a regression model by minimizing the sum of the squared residuals."
      ],
      "metadata": {
        "id": "evAUzFkRB-yM"
      }
    },
    {
      "cell_type": "code",
      "source": [],
      "metadata": {
        "id": "GihLRO3qEKSK"
      },
      "execution_count": null,
      "outputs": []
    },
    {
      "cell_type": "markdown",
      "source": [
        "# Simple Linear Regression "
      ],
      "metadata": {
        "id": "SeXvLc-1BW5y"
      }
    },
    {
      "cell_type": "markdown",
      "source": [
        "In this example we will consider sales based on 'TV' marketing budget. \n",
        "\n",
        "In this notebook, we'll build a linear regression model to predict 'Sales' using 'TV' as the predictor variable.\n"
      ],
      "metadata": {
        "id": "JUPGS__xBW5y"
      }
    },
    {
      "cell_type": "markdown",
      "source": [
        "## Understanding the Data"
      ],
      "metadata": {
        "id": "_xhhrRGiBW5y"
      }
    },
    {
      "cell_type": "markdown",
      "source": [
        "Let's start with the following steps:\n",
        "\n",
        "1. Importing data using the pandas library\n",
        "2. Understanding the structure of the data"
      ],
      "metadata": {
        "id": "5Hxz_OnuBW5y"
      }
    },
    {
      "cell_type": "code",
      "source": [
        "import pandas as pd"
      ],
      "metadata": {
        "id": "4YmE8-RiBW5y",
        "trusted": true
      },
      "execution_count": null,
      "outputs": []
    },
    {
      "cell_type": "code",
      "source": [
        "# Reading csv file from github repo\n",
        "advertising = pd.read_csv('tvmarketing.csv')"
      ],
      "metadata": {
        "id": "LIadm3t6BW5z",
        "trusted": true
      },
      "execution_count": null,
      "outputs": []
    },
    {
      "cell_type": "markdown",
      "source": [
        "Now, let's check the structure of the advertising dataset."
      ],
      "metadata": {
        "id": "9ZFSxwHPBW5z"
      }
    },
    {
      "cell_type": "code",
      "source": [
        "# Display the first 5 rows\n",
        "advertising.head()"
      ],
      "metadata": {
        "id": "pzkseQTcBW5z",
        "trusted": true
      },
      "execution_count": null,
      "outputs": []
    },
    {
      "cell_type": "code",
      "source": [
        "# Display the last 5 rows\n",
        "advertising.tail()"
      ],
      "metadata": {
        "id": "pbmsRO2YBW50",
        "trusted": true
      },
      "execution_count": null,
      "outputs": []
    },
    {
      "cell_type": "code",
      "source": [
        "# Let's check the columns\n",
        "advertising.info()"
      ],
      "metadata": {
        "id": "HQDqzhdKBW51",
        "trusted": true
      },
      "execution_count": null,
      "outputs": []
    },
    {
      "cell_type": "code",
      "source": [
        "# Check the shape of the DataFrame (rows, columns)\n",
        "advertising.shape"
      ],
      "metadata": {
        "id": "1fOGVz61BW51",
        "trusted": true
      },
      "execution_count": null,
      "outputs": []
    },
    {
      "cell_type": "code",
      "source": [
        "# Let's look at some statistical information about the dataframe.\n",
        "advertising.describe()"
      ],
      "metadata": {
        "id": "VO4GoVyfBW51",
        "trusted": true
      },
      "execution_count": null,
      "outputs": []
    },
    {
      "cell_type": "markdown",
      "source": [
        "# Visualising Data Using Plot"
      ],
      "metadata": {
        "id": "4tkuFialBW52"
      }
    },
    {
      "cell_type": "code",
      "source": [
        "# Visualise the relationship between the features and the response using scatterplots\n",
        "advertising.plot(x='TV',y='Sales',kind='scatter')"
      ],
      "metadata": {
        "id": "3mEiKmvYCk8S",
        "trusted": true
      },
      "execution_count": null,
      "outputs": []
    },
    {
      "cell_type": "markdown",
      "source": [
        "# Perfroming Simple Linear Regression"
      ],
      "metadata": {
        "id": "54eMqRWoBW52"
      }
    },
    {
      "cell_type": "markdown",
      "source": [
        "Equation of linear regression<br>\n",
        "$y = c + m_1x_1 + m_2x_2 + ... + m_nx_n$\n",
        "\n",
        "-  $y$ is the response\n",
        "-  $c$ is the intercept\n",
        "-  $m_1$ is the coefficient for the first feature\n",
        "-  $m_n$ is the coefficient for the nth feature<br>\n",
        "\n",
        "In our case:\n",
        "\n",
        "$y = c + m_1 \\times TV$\n",
        "\n",
        "The $m$ values are called the model **coefficients** or **model parameters**."
      ],
      "metadata": {
        "id": "R8O25fC6BW52"
      }
    },
    {
      "cell_type": "markdown",
      "source": [
        "### Generic Steps in Model Building using ```sklearn```\n",
        "\n",
        "Before you read further, it is good to understand the generic structure of modeling using the scikit-learn library. Broadly, the steps to build any model can be divided as follows: "
      ],
      "metadata": {
        "id": "SdKPVlotBW52"
      }
    },
    {
      "cell_type": "markdown",
      "source": [
        "## Preparing X and y\n",
        "\n",
        "-  The scikit-learn library expects X (feature variable) and y (response variable) to be NumPy arrays.\n",
        "-  However, X can be a dataframe as Pandas is built over NumPy."
      ],
      "metadata": {
        "id": "GaxpcxRABW52"
      }
    },
    {
      "cell_type": "code",
      "source": [
        "# Putting feature variable to X\n",
        "X = advertising['TV']\n",
        "# Putting response variable to y\n",
        "y = advertising['Sales']\n",
        "#random_state is the seed used by the random number generator, it can be any integer.\n",
        "\n",
        "from sklearn.model_selection import train_test_split\n",
        "X_train, X_test, y_train, y_test = train_test_split(X, y, train_size=0.7 , random_state=0000)"
      ],
      "metadata": {
        "id": "0ySJx_RkBW52",
        "trusted": true
      },
      "execution_count": null,
      "outputs": []
    },
    {
      "cell_type": "code",
      "source": [
        "print(type(X_train))\n",
        "print(type(X_test))\n",
        "print(type(y_train))\n",
        "print(type(y_test))"
      ],
      "metadata": {
        "id": "rP9gRuF-BW52",
        "trusted": true
      },
      "execution_count": null,
      "outputs": []
    },
    {
      "cell_type": "code",
      "source": [
        "#It is a general convention in scikit-learn that observations are rows, while features are columns. \n",
        "#This is needed only when you are using a single feature; in this case, 'TV'.\n",
        "\n",
        "import numpy as np\n",
        "#Simply put, numpy.newaxis is used to increase the dimension of the existing array by one more dimension,\n",
        "X_train = X_train[:, np.newaxis]\n",
        "X_test = X_test[:, np.newaxis]"
      ],
      "metadata": {
        "id": "SVKR9nQHBW52",
        "trusted": true
      },
      "execution_count": null,
      "outputs": []
    },
    {
      "cell_type": "markdown",
      "source": [
        "## Performing Linear Regression"
      ],
      "metadata": {
        "id": "EdeY_F9xBW52"
      }
    },
    {
      "cell_type": "code",
      "source": [
        "# import LinearRegression from sklearn\n",
        "from sklearn.linear_model import LinearRegression\n",
        "\n",
        "# Representing LinearRegression as lr(Creating LinearRegression Object)\n",
        "lr = LinearRegression()\n",
        "\n",
        "# Fit the model using lr.fit()\n",
        "lr.fit(X_train, y_train)"
      ],
      "metadata": {
        "id": "qL6yPFpABW52",
        "trusted": true
      },
      "execution_count": null,
      "outputs": []
    },
    {
      "cell_type": "markdown",
      "source": [
        "## Coefficients Calculation"
      ],
      "metadata": {
        "id": "ZhChGqJ2BW52"
      }
    },
    {
      "cell_type": "code",
      "source": [
        "# Print the intercept and coefficients\n",
        "print(lr.intercept_)\n",
        "print(lr.coef_)"
      ],
      "metadata": {
        "scrolled": true,
        "id": "527h4jGWBW52",
        "trusted": true
      },
      "execution_count": null,
      "outputs": []
    },
    {
      "cell_type": "markdown",
      "source": [
        "$y = 6.989 + 0.0464 \\times TV $<br>\n",
        "\n",
        "Now, let's use this equation to predict our sales."
      ],
      "metadata": {
        "id": "Hm_44AKFBW53"
      }
    },
    {
      "cell_type": "markdown",
      "source": [
        "## Predictions"
      ],
      "metadata": {
        "id": "8t8Av_XXBW53"
      }
    },
    {
      "cell_type": "code",
      "source": [
        "# Making predictions on the testing set\n",
        "y_pred = lr.predict(X_test)"
      ],
      "metadata": {
        "id": "wJqlolZtBW53",
        "trusted": true
      },
      "execution_count": null,
      "outputs": []
    },
    {
      "cell_type": "code",
      "source": [
        "type(y_pred)"
      ],
      "metadata": {
        "id": "4u4Cz-xqBW53",
        "trusted": true
      },
      "execution_count": null,
      "outputs": []
    },
    {
      "cell_type": "markdown",
      "source": [
        "Some References:\n",
        "\n",
        "\n",
        "1.   https://www.geeksforgeeks.org/best-python-libraries-for-machine-learning/\n",
        "2.   https://colab.research.google.com/?utm_source=scs-index#scrollTo=-Rh3-Vt9Nev9\n",
        "3. https://pytorch.org/tutorials/beginner/basics/intro.html\n",
        "4. https://youtu.be/E54volo2B2s\n",
        "5. https://github.com/tudev/Workshops-2020-2021/tree/master/Google%20Colab%20Tutorials\n",
        "6. https://www.tutorialspoint.com/google_colab/\n",
        "\n",
        "\n"
      ],
      "metadata": {
        "id": "bYG6MDWRglyR"
      }
    }
  ]
}